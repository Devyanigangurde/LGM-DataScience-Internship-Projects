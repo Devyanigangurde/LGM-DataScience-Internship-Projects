{
  "cells": [
    {
      "cell_type": "markdown",
      "metadata": {
        "id": "view-in-github",
        "colab_type": "text"
      },
      "source": [
        "<a href=\"https://colab.research.google.com/github/Devyanigangurde/LGM-DataScience-Internship-Projects/blob/main/Task1-Iris_Dataset_Project.ipynb\" target=\"_parent\"><img src=\"https://colab.research.google.com/assets/colab-badge.svg\" alt=\"Open In Colab\"/></a>"
      ]
    },
    {
      "cell_type": "code",
      "execution_count": null,
      "id": "a641e5b2",
      "metadata": {
        "id": "a641e5b2"
      },
      "outputs": [],
      "source": [
        "import pandas as pd\n",
        "import numpy as np\n",
        "import matplotlib.pyplot as plt\n",
        "import seaborn as sns  #importing libraries"
      ]
    },
    {
      "cell_type": "code",
      "execution_count": null,
      "id": "785f521a",
      "metadata": {
        "id": "785f521a"
      },
      "outputs": [],
      "source": [
        "df = pd.read_csv(\"iris_dataset.csv\") #loding the dataset"
      ]
    },
    {
      "cell_type": "markdown",
      "id": "c2e632f3",
      "metadata": {
        "id": "c2e632f3"
      },
      "source": [
        "# Preprocessing"
      ]
    },
    {
      "cell_type": "code",
      "execution_count": null,
      "id": "2e824b4d",
      "metadata": {
        "id": "2e824b4d",
        "outputId": "42fb43f7-2e16-42e1-ddd7-2b3db791c146"
      },
      "outputs": [
        {
          "data": {
            "text/html": [
              "<div>\n",
              "<style scoped>\n",
              "    .dataframe tbody tr th:only-of-type {\n",
              "        vertical-align: middle;\n",
              "    }\n",
              "\n",
              "    .dataframe tbody tr th {\n",
              "        vertical-align: top;\n",
              "    }\n",
              "\n",
              "    .dataframe thead th {\n",
              "        text-align: right;\n",
              "    }\n",
              "</style>\n",
              "<table border=\"1\" class=\"dataframe\">\n",
              "  <thead>\n",
              "    <tr style=\"text-align: right;\">\n",
              "      <th></th>\n",
              "      <th>Id</th>\n",
              "      <th>SepalLengthCm</th>\n",
              "      <th>SepalWidthCm</th>\n",
              "      <th>PetalLengthCm</th>\n",
              "      <th>PetalWidthCm</th>\n",
              "      <th>Species</th>\n",
              "    </tr>\n",
              "  </thead>\n",
              "  <tbody>\n",
              "    <tr>\n",
              "      <th>0</th>\n",
              "      <td>1</td>\n",
              "      <td>5.1</td>\n",
              "      <td>3.5</td>\n",
              "      <td>1.4</td>\n",
              "      <td>0.2</td>\n",
              "      <td>Iris-setosa</td>\n",
              "    </tr>\n",
              "    <tr>\n",
              "      <th>1</th>\n",
              "      <td>2</td>\n",
              "      <td>4.9</td>\n",
              "      <td>3.0</td>\n",
              "      <td>1.4</td>\n",
              "      <td>0.2</td>\n",
              "      <td>Iris-setosa</td>\n",
              "    </tr>\n",
              "    <tr>\n",
              "      <th>2</th>\n",
              "      <td>3</td>\n",
              "      <td>4.7</td>\n",
              "      <td>3.2</td>\n",
              "      <td>NaN</td>\n",
              "      <td>0.2</td>\n",
              "      <td>Iris-setosa</td>\n",
              "    </tr>\n",
              "    <tr>\n",
              "      <th>3</th>\n",
              "      <td>4</td>\n",
              "      <td>4.6</td>\n",
              "      <td>3.1</td>\n",
              "      <td>1.5</td>\n",
              "      <td>0.2</td>\n",
              "      <td>Iris-setosa</td>\n",
              "    </tr>\n",
              "    <tr>\n",
              "      <th>4</th>\n",
              "      <td>5</td>\n",
              "      <td>5.0</td>\n",
              "      <td>3.6</td>\n",
              "      <td>1.4</td>\n",
              "      <td>0.2</td>\n",
              "      <td>Iris-setosa</td>\n",
              "    </tr>\n",
              "  </tbody>\n",
              "</table>\n",
              "</div>"
            ],
            "text/plain": [
              "   Id  SepalLengthCm  SepalWidthCm  PetalLengthCm  PetalWidthCm      Species\n",
              "0   1            5.1           3.5            1.4           0.2  Iris-setosa\n",
              "1   2            4.9           3.0            1.4           0.2  Iris-setosa\n",
              "2   3            4.7           3.2            NaN           0.2  Iris-setosa\n",
              "3   4            4.6           3.1            1.5           0.2  Iris-setosa\n",
              "4   5            5.0           3.6            1.4           0.2  Iris-setosa"
            ]
          },
          "execution_count": 3,
          "metadata": {},
          "output_type": "execute_result"
        }
      ],
      "source": [
        "df.head()  #retriving first 5 entries"
      ]
    },
    {
      "cell_type": "code",
      "execution_count": null,
      "id": "31800228",
      "metadata": {
        "id": "31800228",
        "outputId": "ce5a517c-e2bb-4018-8391-81791ff1287e"
      },
      "outputs": [
        {
          "data": {
            "text/plain": [
              "(150, 6)"
            ]
          },
          "execution_count": 4,
          "metadata": {},
          "output_type": "execute_result"
        }
      ],
      "source": [
        "df.shape # gives total no. of rows, columns"
      ]
    },
    {
      "cell_type": "code",
      "execution_count": null,
      "id": "9ae3fd3f",
      "metadata": {
        "id": "9ae3fd3f",
        "outputId": "9e8fe994-1f54-4331-fc46-7ddcbcd309bd"
      },
      "outputs": [
        {
          "data": {
            "text/html": [
              "<div>\n",
              "<style scoped>\n",
              "    .dataframe tbody tr th:only-of-type {\n",
              "        vertical-align: middle;\n",
              "    }\n",
              "\n",
              "    .dataframe tbody tr th {\n",
              "        vertical-align: top;\n",
              "    }\n",
              "\n",
              "    .dataframe thead th {\n",
              "        text-align: right;\n",
              "    }\n",
              "</style>\n",
              "<table border=\"1\" class=\"dataframe\">\n",
              "  <thead>\n",
              "    <tr style=\"text-align: right;\">\n",
              "      <th></th>\n",
              "      <th>Id</th>\n",
              "      <th>SepalLengthCm</th>\n",
              "      <th>SepalWidthCm</th>\n",
              "      <th>PetalLengthCm</th>\n",
              "      <th>PetalWidthCm</th>\n",
              "    </tr>\n",
              "  </thead>\n",
              "  <tbody>\n",
              "    <tr>\n",
              "      <th>count</th>\n",
              "      <td>150.000000</td>\n",
              "      <td>150.000000</td>\n",
              "      <td>150.000000</td>\n",
              "      <td>149.000000</td>\n",
              "      <td>150.000000</td>\n",
              "    </tr>\n",
              "    <tr>\n",
              "      <th>mean</th>\n",
              "      <td>75.500000</td>\n",
              "      <td>5.843333</td>\n",
              "      <td>3.054000</td>\n",
              "      <td>3.775168</td>\n",
              "      <td>1.198667</td>\n",
              "    </tr>\n",
              "    <tr>\n",
              "      <th>std</th>\n",
              "      <td>43.445368</td>\n",
              "      <td>0.828066</td>\n",
              "      <td>0.433594</td>\n",
              "      <td>1.758720</td>\n",
              "      <td>0.763161</td>\n",
              "    </tr>\n",
              "    <tr>\n",
              "      <th>min</th>\n",
              "      <td>1.000000</td>\n",
              "      <td>4.300000</td>\n",
              "      <td>2.000000</td>\n",
              "      <td>1.000000</td>\n",
              "      <td>0.100000</td>\n",
              "    </tr>\n",
              "    <tr>\n",
              "      <th>25%</th>\n",
              "      <td>38.250000</td>\n",
              "      <td>5.100000</td>\n",
              "      <td>2.800000</td>\n",
              "      <td>1.600000</td>\n",
              "      <td>0.300000</td>\n",
              "    </tr>\n",
              "    <tr>\n",
              "      <th>50%</th>\n",
              "      <td>75.500000</td>\n",
              "      <td>5.800000</td>\n",
              "      <td>3.000000</td>\n",
              "      <td>4.400000</td>\n",
              "      <td>1.300000</td>\n",
              "    </tr>\n",
              "    <tr>\n",
              "      <th>75%</th>\n",
              "      <td>112.750000</td>\n",
              "      <td>6.400000</td>\n",
              "      <td>3.300000</td>\n",
              "      <td>5.100000</td>\n",
              "      <td>1.800000</td>\n",
              "    </tr>\n",
              "    <tr>\n",
              "      <th>max</th>\n",
              "      <td>150.000000</td>\n",
              "      <td>7.900000</td>\n",
              "      <td>4.400000</td>\n",
              "      <td>6.900000</td>\n",
              "      <td>2.500000</td>\n",
              "    </tr>\n",
              "  </tbody>\n",
              "</table>\n",
              "</div>"
            ],
            "text/plain": [
              "               Id  SepalLengthCm  SepalWidthCm  PetalLengthCm  PetalWidthCm\n",
              "count  150.000000     150.000000    150.000000     149.000000    150.000000\n",
              "mean    75.500000       5.843333      3.054000       3.775168      1.198667\n",
              "std     43.445368       0.828066      0.433594       1.758720      0.763161\n",
              "min      1.000000       4.300000      2.000000       1.000000      0.100000\n",
              "25%     38.250000       5.100000      2.800000       1.600000      0.300000\n",
              "50%     75.500000       5.800000      3.000000       4.400000      1.300000\n",
              "75%    112.750000       6.400000      3.300000       5.100000      1.800000\n",
              "max    150.000000       7.900000      4.400000       6.900000      2.500000"
            ]
          },
          "execution_count": 5,
          "metadata": {},
          "output_type": "execute_result"
        }
      ],
      "source": [
        "df.describe() #used to get a descriptive statistics summary"
      ]
    },
    {
      "cell_type": "code",
      "execution_count": null,
      "id": "a043ade1",
      "metadata": {
        "id": "a043ade1",
        "outputId": "96f8a2a7-8354-4009-98b1-54425c24d3f3"
      },
      "outputs": [
        {
          "data": {
            "text/plain": [
              "Id               0\n",
              "SepalLengthCm    0\n",
              "SepalWidthCm     0\n",
              "PetalLengthCm    1\n",
              "PetalWidthCm     0\n",
              "Species          0\n",
              "dtype: int64"
            ]
          },
          "execution_count": 6,
          "metadata": {},
          "output_type": "execute_result"
        }
      ],
      "source": [
        "df.isnull().sum() # to check any empty entry"
      ]
    },
    {
      "cell_type": "code",
      "execution_count": null,
      "id": "b735d11a",
      "metadata": {
        "id": "b735d11a"
      },
      "outputs": [],
      "source": [
        "df['PetalLengthCm'].fillna(value=df['PetalLengthCm'].mean(),inplace = True) #used to fill null values"
      ]
    },
    {
      "cell_type": "code",
      "execution_count": null,
      "id": "c8977275",
      "metadata": {
        "id": "c8977275",
        "outputId": "02a485ec-bab8-48eb-b5fa-811ff19a6493"
      },
      "outputs": [
        {
          "data": {
            "text/plain": [
              "Id               0\n",
              "SepalLengthCm    0\n",
              "SepalWidthCm     0\n",
              "PetalLengthCm    0\n",
              "PetalWidthCm     0\n",
              "Species          0\n",
              "dtype: int64"
            ]
          },
          "execution_count": 8,
          "metadata": {},
          "output_type": "execute_result"
        }
      ],
      "source": [
        "df.isnull().sum()"
      ]
    },
    {
      "cell_type": "code",
      "execution_count": null,
      "id": "c83169dd",
      "metadata": {
        "id": "c83169dd",
        "outputId": "fc68ccb0-9f82-4957-baef-3141818231e9"
      },
      "outputs": [
        {
          "data": {
            "text/html": [
              "<div>\n",
              "<style scoped>\n",
              "    .dataframe tbody tr th:only-of-type {\n",
              "        vertical-align: middle;\n",
              "    }\n",
              "\n",
              "    .dataframe tbody tr th {\n",
              "        vertical-align: top;\n",
              "    }\n",
              "\n",
              "    .dataframe thead th {\n",
              "        text-align: right;\n",
              "    }\n",
              "</style>\n",
              "<table border=\"1\" class=\"dataframe\">\n",
              "  <thead>\n",
              "    <tr style=\"text-align: right;\">\n",
              "      <th></th>\n",
              "      <th>Id</th>\n",
              "      <th>SepalLengthCm</th>\n",
              "      <th>SepalWidthCm</th>\n",
              "      <th>PetalLengthCm</th>\n",
              "      <th>PetalWidthCm</th>\n",
              "      <th>Species</th>\n",
              "    </tr>\n",
              "  </thead>\n",
              "  <tbody>\n",
              "    <tr>\n",
              "      <th>0</th>\n",
              "      <td>1</td>\n",
              "      <td>5.1</td>\n",
              "      <td>3.5</td>\n",
              "      <td>1.400000</td>\n",
              "      <td>0.2</td>\n",
              "      <td>Iris-setosa</td>\n",
              "    </tr>\n",
              "    <tr>\n",
              "      <th>1</th>\n",
              "      <td>2</td>\n",
              "      <td>4.9</td>\n",
              "      <td>3.0</td>\n",
              "      <td>1.400000</td>\n",
              "      <td>0.2</td>\n",
              "      <td>Iris-setosa</td>\n",
              "    </tr>\n",
              "    <tr>\n",
              "      <th>2</th>\n",
              "      <td>3</td>\n",
              "      <td>4.7</td>\n",
              "      <td>3.2</td>\n",
              "      <td>3.775168</td>\n",
              "      <td>0.2</td>\n",
              "      <td>Iris-setosa</td>\n",
              "    </tr>\n",
              "    <tr>\n",
              "      <th>3</th>\n",
              "      <td>4</td>\n",
              "      <td>4.6</td>\n",
              "      <td>3.1</td>\n",
              "      <td>1.500000</td>\n",
              "      <td>0.2</td>\n",
              "      <td>Iris-setosa</td>\n",
              "    </tr>\n",
              "    <tr>\n",
              "      <th>4</th>\n",
              "      <td>5</td>\n",
              "      <td>5.0</td>\n",
              "      <td>3.6</td>\n",
              "      <td>1.400000</td>\n",
              "      <td>0.2</td>\n",
              "      <td>Iris-setosa</td>\n",
              "    </tr>\n",
              "  </tbody>\n",
              "</table>\n",
              "</div>"
            ],
            "text/plain": [
              "   Id  SepalLengthCm  SepalWidthCm  PetalLengthCm  PetalWidthCm      Species\n",
              "0   1            5.1           3.5       1.400000           0.2  Iris-setosa\n",
              "1   2            4.9           3.0       1.400000           0.2  Iris-setosa\n",
              "2   3            4.7           3.2       3.775168           0.2  Iris-setosa\n",
              "3   4            4.6           3.1       1.500000           0.2  Iris-setosa\n",
              "4   5            5.0           3.6       1.400000           0.2  Iris-setosa"
            ]
          },
          "execution_count": 9,
          "metadata": {},
          "output_type": "execute_result"
        }
      ],
      "source": [
        "df.head()"
      ]
    },
    {
      "cell_type": "code",
      "execution_count": null,
      "id": "bcfc38a3",
      "metadata": {
        "id": "bcfc38a3"
      },
      "outputs": [],
      "source": [
        "df = df.drop(['Id'], axis = 1) #Dropping unnecessary column"
      ]
    },
    {
      "cell_type": "code",
      "execution_count": null,
      "id": "e29b03a5",
      "metadata": {
        "id": "e29b03a5",
        "outputId": "59c3a429-fbc9-4b63-cfb0-960fb1062a12"
      },
      "outputs": [
        {
          "data": {
            "text/html": [
              "<div>\n",
              "<style scoped>\n",
              "    .dataframe tbody tr th:only-of-type {\n",
              "        vertical-align: middle;\n",
              "    }\n",
              "\n",
              "    .dataframe tbody tr th {\n",
              "        vertical-align: top;\n",
              "    }\n",
              "\n",
              "    .dataframe thead th {\n",
              "        text-align: right;\n",
              "    }\n",
              "</style>\n",
              "<table border=\"1\" class=\"dataframe\">\n",
              "  <thead>\n",
              "    <tr style=\"text-align: right;\">\n",
              "      <th></th>\n",
              "      <th>SepalLengthCm</th>\n",
              "      <th>SepalWidthCm</th>\n",
              "      <th>PetalLengthCm</th>\n",
              "      <th>PetalWidthCm</th>\n",
              "      <th>Species</th>\n",
              "    </tr>\n",
              "  </thead>\n",
              "  <tbody>\n",
              "    <tr>\n",
              "      <th>145</th>\n",
              "      <td>6.7</td>\n",
              "      <td>3.0</td>\n",
              "      <td>5.2</td>\n",
              "      <td>2.3</td>\n",
              "      <td>Iris-virginica</td>\n",
              "    </tr>\n",
              "    <tr>\n",
              "      <th>146</th>\n",
              "      <td>6.3</td>\n",
              "      <td>2.5</td>\n",
              "      <td>5.0</td>\n",
              "      <td>1.9</td>\n",
              "      <td>Iris-virginica</td>\n",
              "    </tr>\n",
              "    <tr>\n",
              "      <th>147</th>\n",
              "      <td>6.5</td>\n",
              "      <td>3.0</td>\n",
              "      <td>5.2</td>\n",
              "      <td>2.0</td>\n",
              "      <td>Iris-virginica</td>\n",
              "    </tr>\n",
              "    <tr>\n",
              "      <th>148</th>\n",
              "      <td>6.2</td>\n",
              "      <td>3.4</td>\n",
              "      <td>5.4</td>\n",
              "      <td>2.3</td>\n",
              "      <td>Iris-virginica</td>\n",
              "    </tr>\n",
              "    <tr>\n",
              "      <th>149</th>\n",
              "      <td>5.9</td>\n",
              "      <td>3.0</td>\n",
              "      <td>5.1</td>\n",
              "      <td>1.8</td>\n",
              "      <td>Iris-virginica</td>\n",
              "    </tr>\n",
              "  </tbody>\n",
              "</table>\n",
              "</div>"
            ],
            "text/plain": [
              "     SepalLengthCm  SepalWidthCm  PetalLengthCm  PetalWidthCm         Species\n",
              "145            6.7           3.0            5.2           2.3  Iris-virginica\n",
              "146            6.3           2.5            5.0           1.9  Iris-virginica\n",
              "147            6.5           3.0            5.2           2.0  Iris-virginica\n",
              "148            6.2           3.4            5.4           2.3  Iris-virginica\n",
              "149            5.9           3.0            5.1           1.8  Iris-virginica"
            ]
          },
          "execution_count": 11,
          "metadata": {},
          "output_type": "execute_result"
        }
      ],
      "source": [
        "df.tail() #gives last 5 entries"
      ]
    },
    {
      "cell_type": "code",
      "execution_count": null,
      "id": "818c4894",
      "metadata": {
        "id": "818c4894",
        "outputId": "ce08d299-d016-4135-d9fa-4654ccd1bb22"
      },
      "outputs": [
        {
          "name": "stdout",
          "output_type": "stream",
          "text": [
            "<class 'pandas.core.frame.DataFrame'>\n",
            "RangeIndex: 150 entries, 0 to 149\n",
            "Data columns (total 5 columns):\n",
            " #   Column         Non-Null Count  Dtype  \n",
            "---  ------         --------------  -----  \n",
            " 0   SepalLengthCm  150 non-null    float64\n",
            " 1   SepalWidthCm   150 non-null    float64\n",
            " 2   PetalLengthCm  150 non-null    float64\n",
            " 3   PetalWidthCm   150 non-null    float64\n",
            " 4   Species        150 non-null    object \n",
            "dtypes: float64(4), object(1)\n",
            "memory usage: 6.0+ KB\n"
          ]
        }
      ],
      "source": [
        "df.info() # to get the required information of the dataset"
      ]
    },
    {
      "cell_type": "code",
      "execution_count": null,
      "id": "d0f9b2e0",
      "metadata": {
        "id": "d0f9b2e0",
        "outputId": "e18bf4b1-cc8e-4331-facf-0d6e8b2db53e"
      },
      "outputs": [
        {
          "data": {
            "text/plain": [
              "SepalLengthCm    float64\n",
              "SepalWidthCm     float64\n",
              "PetalLengthCm    float64\n",
              "PetalWidthCm     float64\n",
              "Species           object\n",
              "dtype: object"
            ]
          },
          "execution_count": 13,
          "metadata": {},
          "output_type": "execute_result"
        }
      ],
      "source": [
        "df.dtypes # to get the type of each column"
      ]
    },
    {
      "cell_type": "code",
      "execution_count": null,
      "id": "79e688b5",
      "metadata": {
        "id": "79e688b5",
        "outputId": "1bac49a3-6119-40ff-e0b9-6889e853fff8"
      },
      "outputs": [
        {
          "data": {
            "text/plain": [
              "Index(['SepalLengthCm', 'SepalWidthCm', 'PetalLengthCm', 'PetalWidthCm',\n",
              "       'Species'],\n",
              "      dtype='object')"
            ]
          },
          "execution_count": 14,
          "metadata": {},
          "output_type": "execute_result"
        }
      ],
      "source": [
        "df.columns"
      ]
    },
    {
      "cell_type": "markdown",
      "id": "73a4637c",
      "metadata": {
        "id": "73a4637c"
      },
      "source": [
        "# Visualization"
      ]
    },
    {
      "cell_type": "code",
      "execution_count": null,
      "id": "047fc507",
      "metadata": {
        "id": "047fc507",
        "outputId": "d9e248be-9179-4a05-892c-ef112087d6ba"
      },
      "outputs": [
        {
          "data": {
            "image/png": "[encoded data removed]",
            "text/plain": [
              "<Figure size 600x400 with 1 Axes>"
            ]
          },
          "metadata": {},
          "output_type": "display_data"
        }
      ],
      "source": [
        "df['Species'].value_counts().plot.pie(explode=[0.1,0.1,0.1],autopct='%1.1f%%',shadow=True, figsize=(6,4))\n",
        "plt.show()"
      ]
    },
    {
      "cell_type": "code",
      "execution_count": null,
      "id": "1ba0c29f",
      "metadata": {
        "id": "1ba0c29f",
        "outputId": "9a28a1d4-1440-41c6-d48d-50e624155265"
      },
      "outputs": [
        {
          "data": {
            "text/plain": [
              "<Axes: xlabel='SepalLengthCm', ylabel='PetalLengthCm'>"
            ]
          },
          "execution_count": 16,
          "metadata": {},
          "output_type": "execute_result"
        },
        {
          "data": {
            "image/png": "[encoded data removed]",
            "text/plain": [
              "<Figure size 640x480 with 1 Axes>"
            ]
          },
          "metadata": {},
          "output_type": "display_data"
        }
      ],
      "source": [
        "df.plot(kind=\"scatter\", x=\"SepalLengthCm\", y=\"PetalLengthCm\")"
      ]
    },
    {
      "cell_type": "code",
      "execution_count": null,
      "id": "98c7a3ab",
      "metadata": {
        "id": "98c7a3ab",
        "outputId": "04452488-94ae-4426-e0a1-de69fe76bcf6"
      },
      "outputs": [
        {
          "data": {
            "text/plain": [
              "<seaborn.axisgrid.FacetGrid at 0x1fce9279570>"
            ]
          },
          "execution_count": 17,
          "metadata": {},
          "output_type": "execute_result"
        },
        {
          "data": {
            "image/png": "[encoded data removed]",
            "text/plain": [
              "<Figure size 443x300 with 1 Axes>"
            ]
          },
          "metadata": {},
          "output_type": "display_data"
        }
      ],
      "source": [
        "sns.FacetGrid(df, hue=\"Species\").map(plt.scatter, \"SepalLengthCm\", \"PetalLengthCm\").add_legend()"
      ]
    },
    {
      "cell_type": "code",
      "execution_count": null,
      "id": "2662378b",
      "metadata": {
        "id": "2662378b",
        "outputId": "028eadf7-2a93-4a58-d749-ecc828f862e0"
      },
      "outputs": [
        {
          "data": {
            "text/plain": [
              "<Axes: xlabel='Species', ylabel='SepalLengthCm'>"
            ]
          },
          "execution_count": 18,
          "metadata": {},
          "output_type": "execute_result"
        },
        {
          "data": {
            "image/png": "[encoded data removed]",
            "text/plain": [
              "<Figure size 640x480 with 1 Axes>"
            ]
          },
          "metadata": {},
          "output_type": "display_data"
        }
      ],
      "source": [
        "sns.boxplot(x=\"Species\", y=\"SepalLengthCm\", data=df) # boxplot to check outliers"
      ]
    },
    {
      "cell_type": "code",
      "execution_count": null,
      "id": "82b62503",
      "metadata": {
        "id": "82b62503",
        "outputId": "c8f31a0f-7e15-40b5-8cda-df963260a5dd"
      },
      "outputs": [
        {
          "data": {
            "text/plain": [
              "<Axes: xlabel='Species', ylabel='PetalLengthCm'>"
            ]
          },
          "execution_count": 19,
          "metadata": {},
          "output_type": "execute_result"
        },
        {
          "data": {
            "image/png": "[encoded data removed]",
            "text/plain": [
              "<Figure size 640x480 with 1 Axes>"
            ]
          },
          "metadata": {},
          "output_type": "display_data"
        }
      ],
      "source": [
        "sns.boxplot(x=\"Species\", y=\"PetalLengthCm\", data=df)"
      ]
    },
    {
      "cell_type": "code",
      "execution_count": null,
      "id": "8815a9d6",
      "metadata": {
        "id": "8815a9d6",
        "outputId": "58be223e-f272-4c06-f367-39cb6e5653e2"
      },
      "outputs": [
        {
          "data": {
            "text/plain": [
              "array([[<Axes: title={'center': 'PetalLengthCm'}, xlabel='[Species]'>,\n",
              "        <Axes: title={'center': 'PetalWidthCm'}, xlabel='[Species]'>],\n",
              "       [<Axes: title={'center': 'SepalLengthCm'}, xlabel='[Species]'>,\n",
              "        <Axes: title={'center': 'SepalWidthCm'}, xlabel='[Species]'>]],\n",
              "      dtype=object)"
            ]
          },
          "execution_count": 20,
          "metadata": {},
          "output_type": "execute_result"
        },
        {
          "data": {
            "image/png": "[encoded data removed]",
            "text/plain": [
              "<Figure size 1200x600 with 4 Axes>"
            ]
          },
          "metadata": {},
          "output_type": "display_data"
        }
      ],
      "source": [
        "df.boxplot(by=\"Species\", figsize=(12, 6))"
      ]
    },
    {
      "cell_type": "code",
      "execution_count": null,
      "id": "d5d05f00",
      "metadata": {
        "id": "d5d05f00",
        "outputId": "cafc199a-b883-47a0-c030-ef1bd767a96d"
      },
      "outputs": [
        {
          "data": {
            "image/png": "[encoded data removed]",
            "text/plain": [
              "<Figure size 600x600 with 4 Axes>"
            ]
          },
          "metadata": {},
          "output_type": "display_data"
        }
      ],
      "source": [
        "df.hist(edgecolor='black',figsize=(6,6))\n",
        "plt.show()"
      ]
    },
    {
      "cell_type": "markdown",
      "id": "67df21a8",
      "metadata": {
        "id": "67df21a8"
      },
      "source": [
        "# Transformation of categorical variable"
      ]
    },
    {
      "cell_type": "code",
      "execution_count": null,
      "id": "00e43ecb",
      "metadata": {
        "id": "00e43ecb",
        "outputId": "da6949c1-c288-4bcf-cc08-abb3ae067841"
      },
      "outputs": [
        {
          "data": {
            "text/plain": [
              "Iris-setosa        50\n",
              "Iris-versicolor    50\n",
              "Iris-virginica     50\n",
              "Name: Species, dtype: int64"
            ]
          },
          "execution_count": 22,
          "metadata": {},
          "output_type": "execute_result"
        }
      ],
      "source": [
        "df.Species.value_counts()"
      ]
    },
    {
      "cell_type": "code",
      "execution_count": null,
      "id": "e048dd6e",
      "metadata": {
        "id": "e048dd6e",
        "outputId": "6a24b42c-ca90-4f23-c5e4-c57dddd3fbe4"
      },
      "outputs": [
        {
          "data": {
            "text/html": [
              "<div>\n",
              "<style scoped>\n",
              "    .dataframe tbody tr th:only-of-type {\n",
              "        vertical-align: middle;\n",
              "    }\n",
              "\n",
              "    .dataframe tbody tr th {\n",
              "        vertical-align: top;\n",
              "    }\n",
              "\n",
              "    .dataframe thead th {\n",
              "        text-align: right;\n",
              "    }\n",
              "</style>\n",
              "<table border=\"1\" class=\"dataframe\">\n",
              "  <thead>\n",
              "    <tr style=\"text-align: right;\">\n",
              "      <th></th>\n",
              "      <th>SepalLengthCm</th>\n",
              "      <th>SepalWidthCm</th>\n",
              "      <th>PetalLengthCm</th>\n",
              "      <th>PetalWidthCm</th>\n",
              "      <th>Species</th>\n",
              "    </tr>\n",
              "  </thead>\n",
              "  <tbody>\n",
              "    <tr>\n",
              "      <th>0</th>\n",
              "      <td>5.1</td>\n",
              "      <td>3.5</td>\n",
              "      <td>1.400000</td>\n",
              "      <td>0.2</td>\n",
              "      <td>0</td>\n",
              "    </tr>\n",
              "    <tr>\n",
              "      <th>1</th>\n",
              "      <td>4.9</td>\n",
              "      <td>3.0</td>\n",
              "      <td>1.400000</td>\n",
              "      <td>0.2</td>\n",
              "      <td>0</td>\n",
              "    </tr>\n",
              "    <tr>\n",
              "      <th>2</th>\n",
              "      <td>4.7</td>\n",
              "      <td>3.2</td>\n",
              "      <td>3.775168</td>\n",
              "      <td>0.2</td>\n",
              "      <td>0</td>\n",
              "    </tr>\n",
              "    <tr>\n",
              "      <th>3</th>\n",
              "      <td>4.6</td>\n",
              "      <td>3.1</td>\n",
              "      <td>1.500000</td>\n",
              "      <td>0.2</td>\n",
              "      <td>0</td>\n",
              "    </tr>\n",
              "    <tr>\n",
              "      <th>4</th>\n",
              "      <td>5.0</td>\n",
              "      <td>3.6</td>\n",
              "      <td>1.400000</td>\n",
              "      <td>0.2</td>\n",
              "      <td>0</td>\n",
              "    </tr>\n",
              "    <tr>\n",
              "      <th>...</th>\n",
              "      <td>...</td>\n",
              "      <td>...</td>\n",
              "      <td>...</td>\n",
              "      <td>...</td>\n",
              "      <td>...</td>\n",
              "    </tr>\n",
              "    <tr>\n",
              "      <th>145</th>\n",
              "      <td>6.7</td>\n",
              "      <td>3.0</td>\n",
              "      <td>5.200000</td>\n",
              "      <td>2.3</td>\n",
              "      <td>2</td>\n",
              "    </tr>\n",
              "    <tr>\n",
              "      <th>146</th>\n",
              "      <td>6.3</td>\n",
              "      <td>2.5</td>\n",
              "      <td>5.000000</td>\n",
              "      <td>1.9</td>\n",
              "      <td>2</td>\n",
              "    </tr>\n",
              "    <tr>\n",
              "      <th>147</th>\n",
              "      <td>6.5</td>\n",
              "      <td>3.0</td>\n",
              "      <td>5.200000</td>\n",
              "      <td>2.0</td>\n",
              "      <td>2</td>\n",
              "    </tr>\n",
              "    <tr>\n",
              "      <th>148</th>\n",
              "      <td>6.2</td>\n",
              "      <td>3.4</td>\n",
              "      <td>5.400000</td>\n",
              "      <td>2.3</td>\n",
              "      <td>2</td>\n",
              "    </tr>\n",
              "    <tr>\n",
              "      <th>149</th>\n",
              "      <td>5.9</td>\n",
              "      <td>3.0</td>\n",
              "      <td>5.100000</td>\n",
              "      <td>1.8</td>\n",
              "      <td>2</td>\n",
              "    </tr>\n",
              "  </tbody>\n",
              "</table>\n",
              "<p>150 rows × 5 columns</p>\n",
              "</div>"
            ],
            "text/plain": [
              "     SepalLengthCm  SepalWidthCm  PetalLengthCm  PetalWidthCm  Species\n",
              "0              5.1           3.5       1.400000           0.2        0\n",
              "1              4.9           3.0       1.400000           0.2        0\n",
              "2              4.7           3.2       3.775168           0.2        0\n",
              "3              4.6           3.1       1.500000           0.2        0\n",
              "4              5.0           3.6       1.400000           0.2        0\n",
              "..             ...           ...            ...           ...      ...\n",
              "145            6.7           3.0       5.200000           2.3        2\n",
              "146            6.3           2.5       5.000000           1.9        2\n",
              "147            6.5           3.0       5.200000           2.0        2\n",
              "148            6.2           3.4       5.400000           2.3        2\n",
              "149            5.9           3.0       5.100000           1.8        2\n",
              "\n",
              "[150 rows x 5 columns]"
            ]
          },
          "execution_count": 23,
          "metadata": {},
          "output_type": "execute_result"
        }
      ],
      "source": [
        "Species = {\n",
        "    \"Species\" : {\"Iris-setosa\":0,\"Iris-versicolor\":1,\"Iris-virginica\":2}\n",
        "}\n",
        "df.replace(Species,inplace=True)\n",
        "df"
      ]
    },
    {
      "cell_type": "code",
      "execution_count": null,
      "id": "2a43a269",
      "metadata": {
        "id": "2a43a269",
        "outputId": "5dcb6aac-371b-44cd-9c22-9e31d025b38f"
      },
      "outputs": [
        {
          "data": {
            "text/html": [
              "<div>\n",
              "<style scoped>\n",
              "    .dataframe tbody tr th:only-of-type {\n",
              "        vertical-align: middle;\n",
              "    }\n",
              "\n",
              "    .dataframe tbody tr th {\n",
              "        vertical-align: top;\n",
              "    }\n",
              "\n",
              "    .dataframe thead th {\n",
              "        text-align: right;\n",
              "    }\n",
              "</style>\n",
              "<table border=\"1\" class=\"dataframe\">\n",
              "  <thead>\n",
              "    <tr style=\"text-align: right;\">\n",
              "      <th></th>\n",
              "      <th>SepalLengthCm</th>\n",
              "      <th>SepalWidthCm</th>\n",
              "      <th>PetalLengthCm</th>\n",
              "      <th>PetalWidthCm</th>\n",
              "      <th>Species</th>\n",
              "    </tr>\n",
              "  </thead>\n",
              "  <tbody>\n",
              "    <tr>\n",
              "      <th>SepalLengthCm</th>\n",
              "      <td>1.000000</td>\n",
              "      <td>-0.109369</td>\n",
              "      <td>0.864444</td>\n",
              "      <td>0.817954</td>\n",
              "      <td>0.782561</td>\n",
              "    </tr>\n",
              "    <tr>\n",
              "      <th>SepalWidthCm</th>\n",
              "      <td>-0.109369</td>\n",
              "      <td>1.000000</td>\n",
              "      <td>-0.420111</td>\n",
              "      <td>-0.356544</td>\n",
              "      <td>-0.419446</td>\n",
              "    </tr>\n",
              "    <tr>\n",
              "      <th>PetalLengthCm</th>\n",
              "      <td>0.864444</td>\n",
              "      <td>-0.420111</td>\n",
              "      <td>1.000000</td>\n",
              "      <td>0.956733</td>\n",
              "      <td>0.943761</td>\n",
              "    </tr>\n",
              "    <tr>\n",
              "      <th>PetalWidthCm</th>\n",
              "      <td>0.817954</td>\n",
              "      <td>-0.356544</td>\n",
              "      <td>0.956733</td>\n",
              "      <td>1.000000</td>\n",
              "      <td>0.956464</td>\n",
              "    </tr>\n",
              "    <tr>\n",
              "      <th>Species</th>\n",
              "      <td>0.782561</td>\n",
              "      <td>-0.419446</td>\n",
              "      <td>0.943761</td>\n",
              "      <td>0.956464</td>\n",
              "      <td>1.000000</td>\n",
              "    </tr>\n",
              "  </tbody>\n",
              "</table>\n",
              "</div>"
            ],
            "text/plain": [
              "               SepalLengthCm  SepalWidthCm  PetalLengthCm  PetalWidthCm  \\\n",
              "SepalLengthCm       1.000000     -0.109369       0.864444      0.817954   \n",
              "SepalWidthCm       -0.109369      1.000000      -0.420111     -0.356544   \n",
              "PetalLengthCm       0.864444     -0.420111       1.000000      0.956733   \n",
              "PetalWidthCm        0.817954     -0.356544       0.956733      1.000000   \n",
              "Species             0.782561     -0.419446       0.943761      0.956464   \n",
              "\n",
              "                Species  \n",
              "SepalLengthCm  0.782561  \n",
              "SepalWidthCm  -0.419446  \n",
              "PetalLengthCm  0.943761  \n",
              "PetalWidthCm   0.956464  \n",
              "Species        1.000000  "
            ]
          },
          "execution_count": 24,
          "metadata": {},
          "output_type": "execute_result"
        }
      ],
      "source": [
        "df.corr() # finds correlation"
      ]
    },
    {
      "cell_type": "markdown",
      "id": "172a47aa",
      "metadata": {
        "id": "172a47aa"
      },
      "source": [
        "# splitting the training and testing Dataset"
      ]
    },
    {
      "cell_type": "code",
      "execution_count": null,
      "id": "dceff44e",
      "metadata": {
        "id": "dceff44e"
      },
      "outputs": [],
      "source": [
        "X = df[['SepalLengthCm', 'SepalWidthCm', 'PetalLengthCm', 'PetalWidthCm']]\n",
        "y = df['Species']"
      ]
    },
    {
      "cell_type": "code",
      "execution_count": null,
      "id": "66d9d5e4",
      "metadata": {
        "id": "66d9d5e4"
      },
      "outputs": [],
      "source": [
        "from sklearn.model_selection import train_test_split\n",
        "X_train, X_test, y_train, y_test = train_test_split(X, y, test_size = 0.30)"
      ]
    },
    {
      "cell_type": "markdown",
      "id": "563bef2f",
      "metadata": {
        "id": "563bef2f"
      },
      "source": [
        "# Normalization"
      ]
    },
    {
      "cell_type": "code",
      "execution_count": null,
      "id": "fec07ea7",
      "metadata": {
        "id": "fec07ea7"
      },
      "outputs": [],
      "source": [
        "from sklearn.preprocessing import StandardScaler\n",
        "sc = StandardScaler()"
      ]
    },
    {
      "cell_type": "code",
      "execution_count": null,
      "id": "5ebe9c10",
      "metadata": {
        "id": "5ebe9c10"
      },
      "outputs": [],
      "source": [
        "X_train = sc.fit_transform(X_train)\n",
        "X_test = sc.transform(X_test)"
      ]
    },
    {
      "cell_type": "code",
      "execution_count": null,
      "id": "219469be",
      "metadata": {
        "id": "219469be",
        "outputId": "e7bb475c-559d-40ee-e303-ccec91e18a14"
      },
      "outputs": [
        {
          "data": {
            "text/plain": [
              "array([[ 0.01609021,  2.17808137, -1.35097703, -1.20964942],\n",
              "       [-0.46661612,  1.94399893, -1.07060842, -0.9525377 ],\n",
              "       [-0.22526295, -0.16274303,  0.27516086,  0.20446503],\n",
              "       [ 1.58488578, -0.16274303,  1.28448782,  1.23291191],\n",
              "       [-0.22526295, -0.16274303,  0.49945574,  0.46157675],\n",
              "       [-0.94932245,  0.53950429, -1.23882959, -1.20964942],\n",
              "       [-1.43202878,  1.24175161, -1.46312447, -1.20964942],\n",
              "       [-0.94932245,  1.00766917, -1.12668215, -0.69542598],\n",
              "       [ 1.10217945,  0.07133941,  0.44338202,  0.33302089],\n",
              "       [-0.10458637,  3.11441113, -1.18275587, -0.9525377 ],\n",
              "       [ 0.98150287, -0.16274303,  0.44338202,  0.33302089],\n",
              "       [ 0.37811996, -0.16274303,  0.72375062,  0.84724433],\n",
              "       [-0.82864586,  0.77358673, -1.18275587, -1.20964942],\n",
              "       [ 0.37811996, -0.63090791,  0.21908714,  0.20446503],\n",
              "       [-0.94932245, -1.80132011, -0.1734289 , -0.18120254],\n",
              "       [-0.10458637, -1.09907279, -0.06128146, -0.18120254],\n",
              "       [-0.82864586,  1.47583405, -1.18275587, -0.9525377 ],\n",
              "       [ 2.30894527, -0.63090791,  1.73307758,  1.10435605],\n",
              "       [ 0.01609021, -0.86499035,  0.27516086, -0.18120254],\n",
              "       [-1.19067561,  0.77358673, -0.95846098, -1.20964942],\n",
              "       [ 0.25744338, -0.16274303,  0.6676769 ,  0.84724433],\n",
              "       [ 1.34353261,  0.30542185,  1.17234038,  1.49002363],\n",
              "       [-0.94932245,  0.77358673, -1.12668215, -0.9525377 ],\n",
              "       [-0.82864586,  0.53950429, -1.07060842, -0.82398184],\n",
              "       [-0.82864586,  1.70991649, -1.12668215, -1.20964942],\n",
              "       [-0.22526295, -1.33315523,  0.16301342, -0.05264669],\n",
              "       [ 0.61947312, -0.39682547,  1.11626666,  0.84724433],\n",
              "       [ 0.7401497 , -0.63090791,  1.11626666,  1.36146777],\n",
              "       [-0.70796928,  0.77358673, -1.23882959, -1.20964942],\n",
              "       [-0.70796928, -0.86499035,  0.16301342,  0.33302089],\n",
              "       [ 0.49879654,  0.77358673,  1.00411922,  1.49002363],\n",
              "       [ 1.34353261,  0.07133941,  1.00411922,  1.23291191],\n",
              "       [-1.43202878,  0.07133941, -1.18275587, -1.20964942],\n",
              "       [ 0.7401497 , -0.39682547,  0.3873083 ,  0.20446503],\n",
              "       [ 2.18826869, -0.16274303,  1.67700386,  1.23291191],\n",
              "       [ 1.10217945, -1.33315523,  1.2284141 ,  0.84724433],\n",
              "       [ 0.49879654, -2.03540255,  0.49945574,  0.46157675],\n",
              "       [-0.10458637,  1.70991649, -1.07060842, -1.08109356],\n",
              "       [-1.06999903,  0.07133941, -1.18275587, -1.33820528],\n",
              "       [ 0.61947312, -1.33315523,  0.77982434,  0.97580019],\n",
              "       [ 0.13676679, -0.16274303,  0.33123458,  0.46157675],\n",
              "       [-1.06999903,  0.07133941, -1.18275587, -1.33820528],\n",
              "       [-0.46661612, -0.16274303,  0.49945574,  0.46157675],\n",
              "       [ 0.86082629, -0.63090791,  0.55552946,  0.46157675],\n",
              "       [-0.34593954,  1.00766917, -1.29490331, -1.20964942],\n",
              "       [-0.10458637, -0.39682547,  0.33123458,  0.20446503],\n",
              "       [-1.43202878,  0.30542185, -1.23882959, -1.20964942],\n",
              "       [ 1.34353261,  0.07133941,  0.72375062,  0.46157675],\n",
              "       [ 1.82623894, -0.39682547,  1.5087827 ,  0.84724433],\n",
              "       [-1.43202878,  0.77358673, -1.23882959, -1.08109356],\n",
              "       [ 0.61947312,  0.53950429,  0.61160318,  0.59013261],\n",
              "       [-1.31135219,  0.30542185,  0.09301535, -1.20964942],\n",
              "       [ 1.22285603, -0.16274303,  1.06019294,  1.23291191],\n",
              "       [-0.5872927 ,  1.47583405, -1.18275587, -1.20964942],\n",
              "       [-1.55270536, -1.80132011, -1.29490331, -1.08109356],\n",
              "       [ 0.01609021, -0.86499035,  0.16301342,  0.07590917],\n",
              "       [ 1.70556236,  1.24175161,  1.39663526,  1.74713535],\n",
              "       [-1.06999903, -0.16274303, -1.23882959, -1.20964942],\n",
              "       [ 0.7401497 ,  0.07133941,  1.06019294,  0.84724433],\n",
              "       [-1.19067561, -0.16274303, -1.23882959, -1.08109356],\n",
              "       [-1.31135219,  0.30542185, -1.12668215, -1.20964942],\n",
              "       [ 0.7401497 , -0.63090791,  1.11626666,  1.23291191],\n",
              "       [-0.94932245, -0.16274303, -1.12668215, -1.20964942],\n",
              "       [-0.94932245,  1.24175161, -1.23882959, -1.20964942],\n",
              "       [-0.70796928,  2.41216381, -1.18275587, -1.33820528],\n",
              "       [-1.79405852, -0.16274303, -1.40705075, -1.33820528],\n",
              "       [-0.46661612,  1.47583405, -1.18275587, -1.20964942],\n",
              "       [ 1.94691553, -0.63090791,  1.39663526,  0.97580019],\n",
              "       [ 1.10217945, -0.16274303,  0.77982434,  0.71868847],\n",
              "       [ 0.61947312, -0.86499035,  0.72375062,  0.84724433],\n",
              "       [ 1.70556236, -0.16274303,  1.2284141 ,  0.59013261],\n",
              "       [-0.94932245,  1.00766917, -1.29490331, -1.08109356],\n",
              "       [-1.06999903, -1.56723767, -0.1734289 , -0.18120254],\n",
              "       [ 0.86082629, -0.16274303,  1.2284141 ,  1.36146777],\n",
              "       [ 0.01609021, -0.86499035,  0.83589806,  0.97580019],\n",
              "       [ 0.01609021, -0.63090791,  0.83589806,  1.61857949],\n",
              "       [ 1.10217945,  0.53950429,  1.17234038,  1.74713535],\n",
              "       [-0.34593954, -1.80132011,  0.21908714,  0.20446503],\n",
              "       [-1.67338194, -0.39682547, -1.23882959, -1.20964942],\n",
              "       [-0.82864586,  1.00766917, -1.23882959, -1.20964942],\n",
              "       [ 0.61947312,  0.77358673,  1.11626666,  1.61857949],\n",
              "       [ 0.61947312, -1.80132011,  0.44338202,  0.20446503],\n",
              "       [-0.46661612,  1.94399893, -1.29490331, -0.9525377 ],\n",
              "       [ 0.7401497 , -0.86499035,  0.9480455 ,  0.97580019],\n",
              "       [-0.82864586,  1.70991649, -1.18275587, -1.08109356],\n",
              "       [-0.10458637, -0.63090791,  0.27516086,  0.20446503],\n",
              "       [-0.82864586, -1.33315523, -0.34165006, -0.05264669],\n",
              "       [ 0.13676679,  0.30542185,  0.6676769 ,  0.84724433],\n",
              "       [ 1.10217945, -0.16274303,  0.89197178,  1.49002363],\n",
              "       [ 1.22285603,  0.30542185,  1.28448782,  1.49002363],\n",
              "       [-0.22526295, -0.63090791,  0.72375062,  1.10435605],\n",
              "       [-1.19067561, -0.16274303, -1.23882959, -1.33820528],\n",
              "       [ 0.25744338, -2.03540255,  0.21908714, -0.18120254],\n",
              "       [ 0.86082629, -0.16274303,  0.89197178,  1.10435605],\n",
              "       [ 0.25744338, -0.86499035,  0.83589806,  0.59013261],\n",
              "       [-0.46661612,  0.77358673, -1.18275587, -0.9525377 ],\n",
              "       [-0.22526295, -0.86499035,  0.33123458,  0.20446503],\n",
              "       [ 0.86082629, -0.16274303,  1.06019294,  0.84724433],\n",
              "       [ 0.37811996, -0.39682547,  0.61160318,  0.33302089],\n",
              "       [ 1.22285603, -0.63090791,  0.6676769 ,  0.33302089],\n",
              "       [ 0.37811996, -0.16274303,  0.55552946,  0.33302089],\n",
              "       [-1.19067561,  0.77358673, -1.12668215, -1.20964942],\n",
              "       [ 2.30894527, -0.16274303,  1.39663526,  1.49002363],\n",
              "       [-1.67338194, -0.16274303, -1.29490331, -1.20964942],\n",
              "       [-0.34593954, -1.56723767,  0.1069397 , -0.05264669]])"
            ]
          },
          "execution_count": 29,
          "metadata": {},
          "output_type": "execute_result"
        }
      ],
      "source": [
        "X_train"
      ]
    },
    {
      "cell_type": "code",
      "execution_count": null,
      "id": "9107bedf",
      "metadata": {
        "id": "9107bedf",
        "outputId": "3b2aab91-4ebd-4acc-f544-e001eb645870"
      },
      "outputs": [
        {
          "data": {
            "text/plain": [
              "array([[ 0.86082629,  0.30542185,  0.83589806,  1.10435605],\n",
              "       [ 0.37811996, -1.09907279,  1.11626666,  0.33302089],\n",
              "       [ 1.34353261,  0.07133941,  0.83589806,  1.49002363],\n",
              "       [-1.06999903, -1.33315523,  0.49945574,  0.71868847],\n",
              "       [-0.34593954, -1.33315523,  0.21908714,  0.20446503],\n",
              "       [-1.06999903,  0.07133941, -1.18275587, -1.33820528],\n",
              "       [-0.82864586,  1.00766917, -1.23882959, -1.08109356],\n",
              "       [-0.34593954, -1.56723767,  0.05086598, -0.18120254],\n",
              "       [ 1.10217945,  0.53950429,  1.17234038,  1.23291191],\n",
              "       [ 0.7401497 ,  0.30542185,  0.49945574,  0.46157675],\n",
              "       [ 0.13676679, -0.16274303,  0.83589806,  0.84724433],\n",
              "       [-0.94932245,  0.30542185, -1.35097703, -1.20964942],\n",
              "       [-1.19067561,  0.07133941, -1.12668215, -1.20964942],\n",
              "       [ 0.7401497 ,  0.30542185,  0.9480455 ,  1.49002363],\n",
              "       [-0.10458637, -0.16274303,  0.33123458,  0.07590917],\n",
              "       [-0.94932245,  0.77358673, -1.18275587, -1.20964942],\n",
              "       [ 1.70556236,  0.30542185,  1.34056154,  0.84724433],\n",
              "       [ 0.01609021, -0.86499035,  0.83589806,  0.97580019],\n",
              "       [ 0.61947312,  0.53950429,  1.34056154,  1.74713535],\n",
              "       [-0.10458637, -1.33315523,  0.77982434,  1.10435605],\n",
              "       [-0.70796928,  1.00766917, -1.18275587, -1.20964942],\n",
              "       [ 0.49879654, -0.39682547,  0.3873083 ,  0.20446503],\n",
              "       [ 0.49879654, -0.63090791,  0.6676769 ,  0.84724433],\n",
              "       [ 0.98150287, -0.39682547,  0.55552946,  0.20446503],\n",
              "       [-0.34593954, -1.09907279,  0.44338202,  0.07590917],\n",
              "       [ 2.30894527, -1.09907279,  1.84522502,  1.49002363],\n",
              "       [-0.46661612,  0.77358673, -1.07060842, -1.20964942],\n",
              "       [ 0.25744338, -2.03540255,  0.77982434,  0.46157675],\n",
              "       [-0.34593954,  2.64624625, -1.23882959, -1.20964942],\n",
              "       [-0.22526295, -0.39682547, -0.00520774,  0.20446503],\n",
              "       [ 1.10217945,  0.07133941,  0.61160318,  0.46157675],\n",
              "       [ 1.10217945,  0.07133941,  1.11626666,  1.61857949],\n",
              "       [ 2.30894527,  1.70991649,  1.73307758,  1.36146777],\n",
              "       [ 0.01609021, -1.09907279,  0.21908714,  0.07590917],\n",
              "       [-0.10458637, -0.63090791,  0.49945574,  0.20446503],\n",
              "       [-0.94932245, -2.50356743, -0.06128146, -0.18120254],\n",
              "       [ 0.25744338, -0.39682547,  0.49945574,  0.46157675],\n",
              "       [-0.82864586,  1.70991649, -0.95846098, -0.9525377 ],\n",
              "       [ 0.61947312, -1.33315523,  0.72375062,  0.46157675],\n",
              "       [ 2.55029844,  1.70991649,  1.56485642,  1.10435605],\n",
              "       [ 0.37811996, -0.63090791,  0.61160318,  0.07590917],\n",
              "       [-1.67338194,  0.30542185, -1.29490331, -1.20964942],\n",
              "       [ 1.4642092 ,  0.30542185,  0.61160318,  0.33302089],\n",
              "       [ 0.25744338,  0.77358673,  0.49945574,  0.59013261],\n",
              "       [ 0.61947312, -0.63090791,  0.83589806,  0.46157675]])"
            ]
          },
          "execution_count": 30,
          "metadata": {},
          "output_type": "execute_result"
        }
      ],
      "source": [
        "X_test"
      ]
    },
    {
      "cell_type": "markdown",
      "id": "0361708d",
      "metadata": {
        "id": "0361708d"
      },
      "source": [
        "# Logistic Regression"
      ]
    },
    {
      "cell_type": "code",
      "execution_count": null,
      "id": "dea8ba0c",
      "metadata": {
        "id": "dea8ba0c"
      },
      "outputs": [],
      "source": [
        "from sklearn.linear_model import LogisticRegression\n",
        "from sklearn import metrics\n",
        "from sklearn.metrics import accuracy_score, confusion_matrix, classification_report"
      ]
    },
    {
      "cell_type": "code",
      "execution_count": null,
      "id": "59f4835a",
      "metadata": {
        "id": "59f4835a",
        "outputId": "b0b3c258-b38c-4851-f7b8-05ed88ee827d"
      },
      "outputs": [
        {
          "name": "stderr",
          "output_type": "stream",
          "text": [
            "D:\\anaconda\\lib\\site-packages\\sklearn\\linear_model\\_logistic.py:458: ConvergenceWarning: lbfgs failed to converge (status=1):\n",
            "STOP: TOTAL NO. of ITERATIONS REACHED LIMIT.\n",
            "\n",
            "Increase the number of iterations (max_iter) or scale the data as shown in:\n",
            "    https://scikit-learn.org/stable/modules/preprocessing.html\n",
            "Please also refer to the documentation for alternative solver options:\n",
            "    https://scikit-learn.org/stable/modules/linear_model.html#logistic-regression\n",
            "  n_iter_i = _check_optimize_result(\n"
          ]
        }
      ],
      "source": [
        "classifier = LogisticRegression()\n",
        "classifier.fit(X, y)\n",
        "y_pred = classifier.predict(X) #predicting the result"
      ]
    },
    {
      "cell_type": "markdown",
      "id": "8a3abf5a",
      "metadata": {
        "id": "8a3abf5a"
      },
      "source": [
        "# Accuracy"
      ]
    },
    {
      "cell_type": "code",
      "execution_count": null,
      "id": "ccf5f9c2",
      "metadata": {
        "id": "ccf5f9c2",
        "outputId": "faca1433-a804-4434-fe4a-23b04276fc04"
      },
      "outputs": [
        {
          "data": {
            "text/plain": [
              "0.9666666666666667"
            ]
          },
          "execution_count": 33,
          "metadata": {},
          "output_type": "execute_result"
        }
      ],
      "source": [
        "accuracy = accuracy_score(y, y_pred)\n",
        "accuracy #shows accuracy"
      ]
    },
    {
      "cell_type": "markdown",
      "id": "00d536c6",
      "metadata": {
        "id": "00d536c6"
      },
      "source": [
        "# Confusion Mattrix"
      ]
    },
    {
      "cell_type": "code",
      "execution_count": null,
      "id": "eeeb3896",
      "metadata": {
        "id": "eeeb3896",
        "outputId": "3e69f283-0f61-4ff1-8ae3-73527a5e485a"
      },
      "outputs": [
        {
          "data": {
            "text/plain": [
              "array([[49,  1,  0],\n",
              "       [ 0, 47,  3],\n",
              "       [ 0,  1, 49]], dtype=int64)"
            ]
          },
          "execution_count": 34,
          "metadata": {},
          "output_type": "execute_result"
        }
      ],
      "source": [
        "cm = confusion_matrix(y, y_pred)\n",
        "cm"
      ]
    },
    {
      "cell_type": "code",
      "execution_count": null,
      "id": "a6510dc4",
      "metadata": {
        "id": "a6510dc4",
        "outputId": "493efbd7-2047-420a-db1d-82fcfc333faa"
      },
      "outputs": [
        {
          "name": "stdout",
          "output_type": "stream",
          "text": [
            "              precision    recall  f1-score   support\n",
            "\n",
            "           0       1.00      0.98      0.99        50\n",
            "           1       0.96      0.94      0.95        50\n",
            "           2       0.94      0.98      0.96        50\n",
            "\n",
            "    accuracy                           0.97       150\n",
            "   macro avg       0.97      0.97      0.97       150\n",
            "weighted avg       0.97      0.97      0.97       150\n",
            "\n"
          ]
        },
        {
          "data": {
            "image/png": "[encoded data removed]",
            "text/plain": [
              "<Figure size 600x400 with 2 Axes>"
            ]
          },
          "metadata": {},
          "output_type": "display_data"
        }
      ],
      "source": [
        "plt.figure(figsize = (6,4))\n",
        "sns.heatmap(cm, annot = True)\n",
        "plt.xlabel(\"predicted\")\n",
        "plt.ylabel(\"Actual\")\n",
        "print(classification_report(y, y_pred))"
      ]
    },
    {
      "cell_type": "code",
      "execution_count": null,
      "id": "83ffa3b8",
      "metadata": {
        "id": "83ffa3b8"
      },
      "outputs": [],
      "source": []
    }
  ],
  "metadata": {
    "kernelspec": {
      "display_name": "Python 3 (ipykernel)",
      "language": "python",
      "name": "python3"
    },
    "language_info": {
      "codemirror_mode": {
        "name": "ipython",
        "version": 3
      },
      "file_extension": ".py",
      "mimetype": "text/x-python",
      "name": "python",
      "nbconvert_exporter": "python",
      "pygments_lexer": "ipython3",
      "version": "3.10.9"
    },
    "colab": {
      "provenance": [],
      "include_colab_link": true
    }
  },
  "nbformat": 4,
  "nbformat_minor": 5
}