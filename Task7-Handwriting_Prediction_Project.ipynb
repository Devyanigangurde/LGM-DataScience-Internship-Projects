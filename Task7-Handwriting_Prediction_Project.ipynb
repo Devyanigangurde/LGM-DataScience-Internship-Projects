{
  "cells": [
    {
      "cell_type": "markdown",
      "metadata": {
        "id": "view-in-github",
        "colab_type": "text"
      },
      "source": [
        "<a href=\"https://colab.research.google.com/github/Devyanigangurde/LGM-DataScience-Internship-Projects/blob/main/Task7-Handwriting_Prediction_Project.ipynb\" target=\"_parent\"><img src=\"https://colab.research.google.com/assets/colab-badge.svg\" alt=\"Open In Colab\"/></a>"
      ]
    },
    {
      "cell_type": "code",
      "execution_count": null,
      "metadata": {
        "id": "mca_WkgHHyk2"
      },
      "outputs": [],
      "source": [
        "import tensorflow as tf\n",
        "from keras.preprocessing.image import ImageDataGenerator"
      ]
    },
    {
      "cell_type": "code",
      "execution_count": null,
      "metadata": {
        "id": "0m5PCIofHyk6"
      },
      "outputs": [],
      "source": [
        "import matplotlib\n",
        "import matplotlib.pyplot as plt\n",
        "import numpy as np\n",
        "import pandas as pd\n",
        "import tensorflow.keras.utils as tku"
      ]
    },
    {
      "cell_type": "code",
      "execution_count": null,
      "metadata": {
        "id": "8HLQBsMCHyk8",
        "outputId": "adc3c1ff-59a9-4561-caa8-ccab1efd5655",
        "colab": {
          "base_uri": "https://localhost:8080/",
          "height": 36
        }
      },
      "outputs": [
        {
          "output_type": "execute_result",
          "data": {
            "text/plain": [
              "'2.15.0'"
            ],
            "application/vnd.google.colaboratory.intrinsic+json": {
              "type": "string"
            }
          },
          "metadata": {},
          "execution_count": 20
        }
      ],
      "source": [
        "tf.__version__"
      ]
    },
    {
      "cell_type": "code",
      "execution_count": null,
      "metadata": {
        "id": "8JPPXp_XHyk-",
        "outputId": "f358adc4-964f-4500-bb8c-42a7041b6e69",
        "colab": {
          "base_uri": "https://localhost:8080/"
        }
      },
      "outputs": [
        {
          "output_type": "stream",
          "name": "stdout",
          "text": [
            "Found 10857 images belonging to 10 classes.\n"
          ]
        }
      ],
      "source": [
        "train_datagen = ImageDataGenerator(rescale = 1./255,\n",
        "                                   shear_range = 0.2,\n",
        "                                   zoom_range = 0.2,\n",
        "                                   horizontal_flip = True)\n",
        "training_set = train_datagen.flow_from_directory('/content/drive/MyDrive/MNIST 2/training_set',\n",
        "                                                 target_size = (28, 28),\n",
        "                                                 batch_size = 32,\n",
        "                                                 class_mode = 'categorical')"
      ]
    },
    {
      "cell_type": "code",
      "execution_count": null,
      "metadata": {
        "id": "hCv1hY6jHyk-",
        "outputId": "fd79fa06-3aeb-45e6-dd33-0bcbaf48e009",
        "colab": {
          "base_uri": "https://localhost:8080/"
        }
      },
      "outputs": [
        {
          "output_type": "stream",
          "name": "stdout",
          "text": [
            "Found 4660 images belonging to 10 classes.\n"
          ]
        }
      ],
      "source": [
        "train_datagen = ImageDataGenerator(rescale = 1./255,\n",
        "                                   shear_range = 0.2,\n",
        "                                   zoom_range = 0.2,\n",
        "                                   horizontal_flip = True)\n",
        "test_set = train_datagen.flow_from_directory('/content/drive/MyDrive/MNIST 2/test_set',\n",
        "                                                 target_size = (28, 28),\n",
        "                                                 batch_size = 32,\n",
        "                                                 class_mode = 'categorical')"
      ]
    },
    {
      "cell_type": "code",
      "execution_count": null,
      "metadata": {
        "id": "U_fb0jr9Hyk_"
      },
      "outputs": [],
      "source": [
        "cnn = tf.keras.models.Sequential()"
      ]
    },
    {
      "cell_type": "code",
      "execution_count": null,
      "metadata": {
        "id": "x_17i7i-HylA"
      },
      "outputs": [],
      "source": [
        "cnn.add(tf.keras.layers.Conv2D(filters=32, kernel_size=3, activation='relu', input_shape=[28, 28, 3]))"
      ]
    },
    {
      "cell_type": "code",
      "execution_count": null,
      "metadata": {
        "id": "dE8D9J1oHylB"
      },
      "outputs": [],
      "source": [
        "cnn.add(tf.keras.layers.MaxPool2D(pool_size=2, strides=2))"
      ]
    },
    {
      "cell_type": "code",
      "execution_count": null,
      "metadata": {
        "id": "3btLO5lYHylC"
      },
      "outputs": [],
      "source": [
        "cnn.add(tf.keras.layers.Conv2D(filters=32, kernel_size=3, activation='relu'))\n",
        "cnn.add(tf.keras.layers.MaxPool2D(pool_size=2, strides=2))"
      ]
    },
    {
      "cell_type": "code",
      "execution_count": null,
      "metadata": {
        "id": "ThjmOYF0HylD"
      },
      "outputs": [],
      "source": [
        "cnn.add(tf.keras.layers.Flatten())"
      ]
    },
    {
      "cell_type": "code",
      "execution_count": null,
      "metadata": {
        "id": "LcFDSW9QHylE"
      },
      "outputs": [],
      "source": [
        "cnn.add(tf.keras.layers.Dense(units=64, activation='relu'))"
      ]
    },
    {
      "cell_type": "code",
      "execution_count": null,
      "metadata": {
        "id": "xnkZeXMSHylE"
      },
      "outputs": [],
      "source": [
        "cnn.add(tf.keras.layers.Dense(units=10, activation='softmax'))"
      ]
    },
    {
      "cell_type": "code",
      "execution_count": null,
      "metadata": {
        "id": "FWUltP1BHylF"
      },
      "outputs": [],
      "source": [
        "cnn.compile(optimizer = 'adam', loss = 'categorical_crossentropy', metrics = ['accuracy'])"
      ]
    },
    {
      "cell_type": "code",
      "execution_count": null,
      "metadata": {
        "id": "7HOqXzz9HylF",
        "outputId": "19528ff7-49ad-49b5-82a1-d02bd3a6d2d7",
        "colab": {
          "base_uri": "https://localhost:8080/"
        }
      },
      "outputs": [
        {
          "output_type": "stream",
          "name": "stdout",
          "text": [
            "Epoch 1/20\n",
            "340/340 [==============================] - 34s 94ms/step - loss: 0.6511 - accuracy: 0.7929 - val_loss: 0.3709 - val_accuracy: 0.8766\n",
            "Epoch 2/20\n",
            "340/340 [==============================] - 32s 94ms/step - loss: 0.2708 - accuracy: 0.9135 - val_loss: 0.2619 - val_accuracy: 0.9167\n",
            "Epoch 3/20\n",
            "340/340 [==============================] - 32s 95ms/step - loss: 0.1951 - accuracy: 0.9362 - val_loss: 0.2070 - val_accuracy: 0.9369\n",
            "Epoch 4/20\n",
            "340/340 [==============================] - 32s 94ms/step - loss: 0.1614 - accuracy: 0.9491 - val_loss: 0.1596 - val_accuracy: 0.9511\n",
            "Epoch 5/20\n",
            "340/340 [==============================] - 32s 96ms/step - loss: 0.1303 - accuracy: 0.9565 - val_loss: 0.1669 - val_accuracy: 0.9479\n",
            "Epoch 6/20\n",
            "340/340 [==============================] - 31s 92ms/step - loss: 0.1136 - accuracy: 0.9636 - val_loss: 0.1320 - val_accuracy: 0.9601\n",
            "Epoch 7/20\n",
            "340/340 [==============================] - 32s 93ms/step - loss: 0.1089 - accuracy: 0.9656 - val_loss: 0.1390 - val_accuracy: 0.9575\n",
            "Epoch 8/20\n",
            "340/340 [==============================] - 32s 93ms/step - loss: 0.0965 - accuracy: 0.9698 - val_loss: 0.1751 - val_accuracy: 0.9440\n",
            "Epoch 9/20\n",
            "340/340 [==============================] - 33s 98ms/step - loss: 0.0875 - accuracy: 0.9715 - val_loss: 0.1337 - val_accuracy: 0.9601\n",
            "Epoch 10/20\n",
            "340/340 [==============================] - 31s 93ms/step - loss: 0.0810 - accuracy: 0.9731 - val_loss: 0.1134 - val_accuracy: 0.9689\n",
            "Epoch 11/20\n",
            "340/340 [==============================] - 31s 92ms/step - loss: 0.0736 - accuracy: 0.9755 - val_loss: 0.0950 - val_accuracy: 0.9704\n",
            "Epoch 12/20\n",
            "340/340 [==============================] - 32s 95ms/step - loss: 0.0689 - accuracy: 0.9772 - val_loss: 0.1020 - val_accuracy: 0.9700\n",
            "Epoch 13/20\n",
            "340/340 [==============================] - 32s 93ms/step - loss: 0.0634 - accuracy: 0.9779 - val_loss: 0.1154 - val_accuracy: 0.9676\n",
            "Epoch 14/20\n",
            "340/340 [==============================] - 31s 92ms/step - loss: 0.0607 - accuracy: 0.9801 - val_loss: 0.1194 - val_accuracy: 0.9650\n",
            "Epoch 15/20\n",
            "340/340 [==============================] - 32s 93ms/step - loss: 0.0569 - accuracy: 0.9819 - val_loss: 0.1092 - val_accuracy: 0.9682\n",
            "Epoch 16/20\n",
            "340/340 [==============================] - 32s 93ms/step - loss: 0.0540 - accuracy: 0.9813 - val_loss: 0.1195 - val_accuracy: 0.9603\n",
            "Epoch 17/20\n",
            "340/340 [==============================] - 31s 92ms/step - loss: 0.0511 - accuracy: 0.9823 - val_loss: 0.1041 - val_accuracy: 0.9676\n",
            "Epoch 18/20\n",
            "340/340 [==============================] - 31s 92ms/step - loss: 0.0490 - accuracy: 0.9835 - val_loss: 0.1055 - val_accuracy: 0.9702\n",
            "Epoch 19/20\n",
            "340/340 [==============================] - 34s 101ms/step - loss: 0.0448 - accuracy: 0.9842 - val_loss: 0.0931 - val_accuracy: 0.9697\n",
            "Epoch 20/20\n",
            "340/340 [==============================] - 32s 93ms/step - loss: 0.0432 - accuracy: 0.9850 - val_loss: 0.1014 - val_accuracy: 0.9693\n"
          ]
        }
      ],
      "source": [
        "trained_model = cnn.fit(x = training_set, validation_data = test_set, epochs = 20)"
      ]
    },
    {
      "cell_type": "code",
      "execution_count": null,
      "metadata": {
        "id": "-hm3To8aHylG",
        "colab": {
          "base_uri": "https://localhost:8080/"
        },
        "outputId": "2ecc80e7-0d38-4ca4-d9bc-f163f9a3ca95"
      },
      "outputs": [
        {
          "output_type": "stream",
          "name": "stdout",
          "text": [
            "1/1 [==============================] - 0s 262ms/step\n"
          ]
        }
      ],
      "source": [
        "import numpy as np\n",
        "from keras.preprocessing import image\n",
        "test_image = image.load_img('/content/drive/MyDrive/MNIST/MNIST/single_prediction/img_54.jpg', target_size = (28, 28))\n",
        "test_image = image.img_to_array(test_image)\n",
        "test_image = np.expand_dims(test_image, axis = 0)\n",
        "results = (cnn.predict(test_image))\n",
        "training_set.class_indices\n",
        "if results[0][0] == 1:\n",
        "  prediction = 'Zero'\n",
        "elif results[0][1] == 1:\n",
        "  prediction = 'One'\n",
        "elif results[0][2] == 1:\n",
        "  prediction = 'Two'\n",
        "elif results[0][3] == 1:\n",
        "  prediction = 'Three'\n",
        "elif results[0][4] == 1:\n",
        "  prediction = 'Four'\n",
        "elif results[0][5] == 1:\n",
        "  prediction = 'Five'\n",
        "elif results[0][6] == 1:\n",
        "  prediction = 'Six'\n",
        "elif results[0][7] == 1:\n",
        "  prediction = 'Seven'\n",
        "elif results[0][8] == 1:\n",
        "  prediction = 'Eight'\n",
        "else:\n",
        "  prediction = 'Nine'"
      ]
    },
    {
      "cell_type": "code",
      "execution_count": null,
      "metadata": {
        "id": "zsmK0zO4HylG",
        "outputId": "70a8ab86-dd8b-4f9b-9e72-ede9e6ac1c87",
        "colab": {
          "base_uri": "https://localhost:8080/"
        }
      },
      "outputs": [
        {
          "output_type": "stream",
          "name": "stdout",
          "text": [
            "[[0. 0. 0. 1. 0. 0. 0. 0. 0. 0.]]\n"
          ]
        }
      ],
      "source": [
        "print(results)"
      ]
    },
    {
      "cell_type": "code",
      "execution_count": null,
      "metadata": {
        "id": "HDlEIOFwHylH",
        "outputId": "9c10a210-9670-49c4-eee1-7cfe28ca6539",
        "colab": {
          "base_uri": "https://localhost:8080/"
        }
      },
      "outputs": [
        {
          "output_type": "stream",
          "name": "stdout",
          "text": [
            "Three\n"
          ]
        }
      ],
      "source": [
        "print(prediction)"
      ]
    },
    {
      "cell_type": "code",
      "source": [],
      "metadata": {
        "id": "J_wKxmi8WFYm"
      },
      "execution_count": null,
      "outputs": []
    }
  ],
  "metadata": {
    "kernelspec": {
      "display_name": "Python 3",
      "name": "python3"
    },
    "language_info": {
      "codemirror_mode": {
        "name": "ipython",
        "version": 3
      },
      "file_extension": ".py",
      "mimetype": "text/x-python",
      "name": "python",
      "nbconvert_exporter": "python",
      "pygments_lexer": "ipython3",
      "version": "3.8.5"
    },
    "colab": {
      "provenance": [],
      "gpuType": "T4",
      "include_colab_link": true
    },
    "accelerator": "GPU"
  },
  "nbformat": 4,
  "nbformat_minor": 0
}