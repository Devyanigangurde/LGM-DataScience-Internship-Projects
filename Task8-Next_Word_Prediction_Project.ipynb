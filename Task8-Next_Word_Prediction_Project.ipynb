{
  "cells": [
    {
      "cell_type": "markdown",
      "metadata": {
        "id": "view-in-github",
        "colab_type": "text"
      },
      "source": [
        "<a href=\"https://colab.research.google.com/github/Devyanigangurde/LGM-DataScience-Internship-Projects/blob/main/Task8-Next_Word_Prediction_Project.ipynb\" target=\"_parent\"><img src=\"https://colab.research.google.com/assets/colab-badge.svg\" alt=\"Open In Colab\"/></a>"
      ]
    },
    {
      "cell_type": "code",
      "execution_count": 2,
      "metadata": {
        "id": "lONbGNGvtMzu"
      },
      "outputs": [],
      "source": [
        "import numpy as np\n",
        "import tensorflow as tf\n",
        "from tensorflow.keras.preprocessing.text import Tokenizer\n",
        "from tensorflow.keras.preprocessing.sequence import pad_sequences\n",
        "from tensorflow.keras.models import Sequential\n",
        "from tensorflow.keras.layers import Embedding, LSTM, Dense\n"
      ]
    },
    {
      "cell_type": "code",
      "execution_count": 3,
      "metadata": {
        "id": "RxAwRw8utgDe"
      },
      "outputs": [],
      "source": [
        "with open('/content/drive/MyDrive/LGM-Internship/1661-0.txt', 'r', encoding='utf-8') as file:\n",
        "    text = file.read()"
      ]
    },
    {
      "cell_type": "code",
      "execution_count": 4,
      "metadata": {
        "id": "vLedPHGmt1u0"
      },
      "outputs": [],
      "source": [
        "tokenizer = Tokenizer()\n",
        "tokenizer.fit_on_texts([text])\n",
        "total_words = len(tokenizer.word_index) + 1"
      ]
    },
    {
      "cell_type": "code",
      "execution_count": 5,
      "metadata": {
        "id": "pwqXs5Btt7M_"
      },
      "outputs": [],
      "source": [
        "input_sequences = []\n",
        "for line in text.split('\\n'):\n",
        "    token_list = tokenizer.texts_to_sequences([line])[0]\n",
        "    for i in range(1, len(token_list)):\n",
        "        n_gram_sequence = token_list[:i+1]\n",
        "        input_sequences.append(n_gram_sequence)"
      ]
    },
    {
      "cell_type": "code",
      "execution_count": 6,
      "metadata": {
        "id": "p2AAMwyJuB5t"
      },
      "outputs": [],
      "source": [
        "max_sequence_len = max([len(seq) for seq in input_sequences])\n",
        "input_sequences = np.array(pad_sequences(input_sequences, maxlen=max_sequence_len, padding='pre'))"
      ]
    },
    {
      "cell_type": "code",
      "execution_count": 7,
      "metadata": {
        "id": "RyZuxHE3uGSQ"
      },
      "outputs": [],
      "source": [
        "X = input_sequences[:, :-1]\n",
        "y = input_sequences[:, -1]"
      ]
    },
    {
      "cell_type": "code",
      "execution_count": 8,
      "metadata": {
        "id": "Qyu6mhP0uH5N"
      },
      "outputs": [],
      "source": [
        "y = np.array(tf.keras.utils.to_categorical(y, num_classes=total_words))"
      ]
    },
    {
      "cell_type": "code",
      "execution_count": 9,
      "metadata": {
        "id": "_kKWc0eouIEr"
      },
      "outputs": [],
      "source": [
        "model = Sequential()\n",
        "model.add(Embedding(total_words, 100, input_length=max_sequence_len-1))\n",
        "model.add(LSTM(150))\n",
        "model.add(Dense(total_words, activation='softmax'))\n"
      ]
    },
    {
      "cell_type": "code",
      "execution_count": 10,
      "metadata": {
        "colab": {
          "base_uri": "https://localhost:8080/"
        },
        "id": "UT_e4QJ9uRTG",
        "outputId": "fe8f0efe-8f6d-419d-c1f2-f702703fec90"
      },
      "outputs": [
        {
          "output_type": "stream",
          "name": "stdout",
          "text": [
            "Model: \"sequential\"\n",
            "_________________________________________________________________\n",
            " Layer (type)                Output Shape              Param #   \n",
            "=================================================================\n",
            " embedding (Embedding)       (None, 19, 100)           893200    \n",
            "                                                                 \n",
            " lstm (LSTM)                 (None, 150)               150600    \n",
            "                                                                 \n",
            " dense (Dense)               (None, 8932)              1348732   \n",
            "                                                                 \n",
            "=================================================================\n",
            "Total params: 2392532 (9.13 MB)\n",
            "Trainable params: 2392532 (9.13 MB)\n",
            "Non-trainable params: 0 (0.00 Byte)\n",
            "_________________________________________________________________\n",
            "None\n"
          ]
        }
      ],
      "source": [
        "print(model.summary())"
      ]
    },
    {
      "cell_type": "code",
      "execution_count": 11,
      "metadata": {
        "colab": {
          "base_uri": "https://localhost:8080/"
        },
        "id": "3g6uvMcMuTaH",
        "outputId": "34be24a6-d4e1-4353-e9c9-d1efd865a74e"
      },
      "outputs": [
        {
          "output_type": "stream",
          "name": "stdout",
          "text": [
            "Epoch 1/80\n",
            "3176/3176 [==============================] - 234s 73ms/step - loss: 6.2547 - accuracy: 0.0766\n",
            "Epoch 2/80\n",
            "3176/3176 [==============================] - 232s 73ms/step - loss: 5.4838 - accuracy: 0.1284\n",
            "Epoch 3/80\n",
            "3176/3176 [==============================] - 237s 75ms/step - loss: 5.0761 - accuracy: 0.1550\n",
            "Epoch 4/80\n",
            "3176/3176 [==============================] - 269s 85ms/step - loss: 4.7341 - accuracy: 0.1731\n",
            "Epoch 5/80\n",
            "3176/3176 [==============================] - 238s 75ms/step - loss: 4.4187 - accuracy: 0.1925\n",
            "Epoch 6/80\n",
            "3176/3176 [==============================] - 229s 72ms/step - loss: 4.1209 - accuracy: 0.2152\n",
            "Epoch 7/80\n",
            "3176/3176 [==============================] - 234s 74ms/step - loss: 3.8391 - accuracy: 0.2430\n",
            "Epoch 8/80\n",
            "3176/3176 [==============================] - 228s 72ms/step - loss: 3.5724 - accuracy: 0.2750\n",
            "Epoch 9/80\n",
            "3176/3176 [==============================] - 238s 75ms/step - loss: 3.3240 - accuracy: 0.3100\n",
            "Epoch 10/80\n",
            "3176/3176 [==============================] - 229s 72ms/step - loss: 3.0910 - accuracy: 0.3473\n",
            "Epoch 11/80\n",
            "3176/3176 [==============================] - 233s 73ms/step - loss: 2.8771 - accuracy: 0.3834\n",
            "Epoch 12/80\n",
            "3176/3176 [==============================] - 227s 71ms/step - loss: 2.6785 - accuracy: 0.4192\n",
            "Epoch 13/80\n",
            "3176/3176 [==============================] - 228s 72ms/step - loss: 2.4965 - accuracy: 0.4536\n",
            "Epoch 14/80\n",
            "3176/3176 [==============================] - 227s 71ms/step - loss: 2.3326 - accuracy: 0.4857\n",
            "Epoch 15/80\n",
            "3176/3176 [==============================] - 230s 73ms/step - loss: 2.1794 - accuracy: 0.5157\n",
            "Epoch 16/80\n",
            "3176/3176 [==============================] - 227s 72ms/step - loss: 2.0414 - accuracy: 0.5435\n",
            "Epoch 17/80\n",
            "3176/3176 [==============================] - 228s 72ms/step - loss: 1.9139 - accuracy: 0.5711\n",
            "Epoch 18/80\n",
            "3176/3176 [==============================] - 227s 71ms/step - loss: 1.7992 - accuracy: 0.5961\n",
            "Epoch 19/80\n",
            "3176/3176 [==============================] - 231s 73ms/step - loss: 1.6936 - accuracy: 0.6181\n",
            "Epoch 20/80\n",
            "3176/3176 [==============================] - 228s 72ms/step - loss: 1.5957 - accuracy: 0.6389\n",
            "Epoch 21/80\n",
            "3176/3176 [==============================] - 228s 72ms/step - loss: 1.5098 - accuracy: 0.6579\n",
            "Epoch 22/80\n",
            "3176/3176 [==============================] - 226s 71ms/step - loss: 1.4268 - accuracy: 0.6771\n",
            "Epoch 23/80\n",
            "3176/3176 [==============================] - 230s 72ms/step - loss: 1.3535 - accuracy: 0.6907\n",
            "Epoch 24/80\n",
            "3176/3176 [==============================] - 226s 71ms/step - loss: 1.2852 - accuracy: 0.7077\n",
            "Epoch 25/80\n",
            "3176/3176 [==============================] - 227s 71ms/step - loss: 1.2216 - accuracy: 0.7207\n",
            "Epoch 26/80\n",
            "3176/3176 [==============================] - 231s 73ms/step - loss: 1.1661 - accuracy: 0.7322\n",
            "Epoch 27/80\n",
            "3176/3176 [==============================] - 239s 75ms/step - loss: 1.1135 - accuracy: 0.7441\n",
            "Epoch 28/80\n",
            "3176/3176 [==============================] - 235s 74ms/step - loss: 1.0650 - accuracy: 0.7549\n",
            "Epoch 29/80\n",
            "3176/3176 [==============================] - 232s 73ms/step - loss: 1.0231 - accuracy: 0.7643\n",
            "Epoch 30/80\n",
            "3176/3176 [==============================] - 237s 75ms/step - loss: 0.9813 - accuracy: 0.7745\n",
            "Epoch 31/80\n",
            "3176/3176 [==============================] - 237s 75ms/step - loss: 0.9453 - accuracy: 0.7814\n",
            "Epoch 32/80\n",
            "3176/3176 [==============================] - 237s 75ms/step - loss: 0.9094 - accuracy: 0.7888\n",
            "Epoch 33/80\n",
            "3176/3176 [==============================] - 231s 73ms/step - loss: 0.8779 - accuracy: 0.7965\n",
            "Epoch 34/80\n",
            "3176/3176 [==============================] - 230s 72ms/step - loss: 0.8498 - accuracy: 0.8020\n",
            "Epoch 35/80\n",
            "3176/3176 [==============================] - 235s 74ms/step - loss: 0.8220 - accuracy: 0.8077\n",
            "Epoch 36/80\n",
            "3176/3176 [==============================] - 229s 72ms/step - loss: 0.7955 - accuracy: 0.8136\n",
            "Epoch 37/80\n",
            "3176/3176 [==============================] - 229s 72ms/step - loss: 0.7749 - accuracy: 0.8188\n",
            "Epoch 38/80\n",
            "3176/3176 [==============================] - 231s 73ms/step - loss: 0.7527 - accuracy: 0.8226\n",
            "Epoch 39/80\n",
            "3176/3176 [==============================] - 235s 74ms/step - loss: 0.7358 - accuracy: 0.8257\n",
            "Epoch 40/80\n",
            "3176/3176 [==============================] - 230s 72ms/step - loss: 0.7155 - accuracy: 0.8310\n",
            "Epoch 41/80\n",
            "3176/3176 [==============================] - 231s 73ms/step - loss: 0.7010 - accuracy: 0.8346\n",
            "Epoch 42/80\n",
            "3176/3176 [==============================] - 230s 72ms/step - loss: 0.6837 - accuracy: 0.8380\n",
            "Epoch 43/80\n",
            "3176/3176 [==============================] - 234s 74ms/step - loss: 0.6720 - accuracy: 0.8395\n",
            "Epoch 44/80\n",
            "3176/3176 [==============================] - 229s 72ms/step - loss: 0.6546 - accuracy: 0.8429\n",
            "Epoch 45/80\n",
            "3176/3176 [==============================] - 229s 72ms/step - loss: 0.6456 - accuracy: 0.8452\n",
            "Epoch 46/80\n",
            "3176/3176 [==============================] - 229s 72ms/step - loss: 0.6317 - accuracy: 0.8475\n",
            "Epoch 47/80\n",
            "3176/3176 [==============================] - 232s 73ms/step - loss: 0.6222 - accuracy: 0.8501\n",
            "Epoch 48/80\n",
            "3176/3176 [==============================] - 231s 73ms/step - loss: 0.6129 - accuracy: 0.8516\n",
            "Epoch 49/80\n",
            "3176/3176 [==============================] - 231s 73ms/step - loss: 0.6009 - accuracy: 0.8559\n",
            "Epoch 50/80\n",
            "3176/3176 [==============================] - 231s 73ms/step - loss: 0.5928 - accuracy: 0.8555\n",
            "Epoch 51/80\n",
            "3176/3176 [==============================] - 232s 73ms/step - loss: 0.5889 - accuracy: 0.8550\n",
            "Epoch 52/80\n",
            "3176/3176 [==============================] - 256s 81ms/step - loss: 0.5755 - accuracy: 0.8585\n",
            "Epoch 53/80\n",
            "3176/3176 [==============================] - 256s 81ms/step - loss: 0.5707 - accuracy: 0.8605\n",
            "Epoch 54/80\n",
            "3176/3176 [==============================] - 233s 73ms/step - loss: 0.5644 - accuracy: 0.8610\n",
            "Epoch 55/80\n",
            "3176/3176 [==============================] - 230s 72ms/step - loss: 0.5591 - accuracy: 0.8626\n",
            "Epoch 56/80\n",
            "3176/3176 [==============================] - 230s 72ms/step - loss: 0.5496 - accuracy: 0.8642\n",
            "Epoch 57/80\n",
            "3176/3176 [==============================] - 232s 73ms/step - loss: 0.5482 - accuracy: 0.8639\n",
            "Epoch 58/80\n",
            "3176/3176 [==============================] - 237s 75ms/step - loss: 0.5464 - accuracy: 0.8637\n",
            "Epoch 59/80\n",
            "3176/3176 [==============================] - 233s 73ms/step - loss: 0.5376 - accuracy: 0.8654\n",
            "Epoch 60/80\n",
            "3176/3176 [==============================] - 233s 73ms/step - loss: 0.5332 - accuracy: 0.8670\n",
            "Epoch 61/80\n",
            "3176/3176 [==============================] - 229s 72ms/step - loss: 0.5286 - accuracy: 0.8675\n",
            "Epoch 62/80\n",
            "3176/3176 [==============================] - 234s 74ms/step - loss: 0.5256 - accuracy: 0.8673\n",
            "Epoch 63/80\n",
            "3176/3176 [==============================] - 234s 74ms/step - loss: 0.5157 - accuracy: 0.8706\n",
            "Epoch 64/80\n",
            "3176/3176 [==============================] - 229s 72ms/step - loss: 0.5172 - accuracy: 0.8694\n",
            "Epoch 65/80\n",
            "3176/3176 [==============================] - 231s 73ms/step - loss: 0.5127 - accuracy: 0.8707\n",
            "Epoch 66/80\n",
            "3176/3176 [==============================] - 234s 74ms/step - loss: 0.5084 - accuracy: 0.8715\n",
            "Epoch 67/80\n",
            "3176/3176 [==============================] - 231s 73ms/step - loss: 0.5095 - accuracy: 0.8708\n",
            "Epoch 68/80\n",
            "3176/3176 [==============================] - 234s 74ms/step - loss: 0.5040 - accuracy: 0.8718\n",
            "Epoch 69/80\n",
            "3176/3176 [==============================] - 232s 73ms/step - loss: 0.5052 - accuracy: 0.8711\n",
            "Epoch 70/80\n",
            "3176/3176 [==============================] - 231s 73ms/step - loss: 0.5009 - accuracy: 0.8715\n",
            "Epoch 71/80\n",
            "3176/3176 [==============================] - 234s 74ms/step - loss: 0.4918 - accuracy: 0.8746\n",
            "Epoch 72/80\n",
            "3176/3176 [==============================] - 229s 72ms/step - loss: 0.5002 - accuracy: 0.8711\n",
            "Epoch 73/80\n",
            "3176/3176 [==============================] - 231s 73ms/step - loss: 0.4906 - accuracy: 0.8736\n",
            "Epoch 74/80\n",
            "3176/3176 [==============================] - 228s 72ms/step - loss: 0.4943 - accuracy: 0.8720\n",
            "Epoch 75/80\n",
            "3176/3176 [==============================] - 229s 72ms/step - loss: 0.4919 - accuracy: 0.8730\n",
            "Epoch 76/80\n",
            "3176/3176 [==============================] - 229s 72ms/step - loss: 0.4879 - accuracy: 0.8734\n",
            "Epoch 77/80\n",
            "3176/3176 [==============================] - 233s 73ms/step - loss: 0.4875 - accuracy: 0.8741\n",
            "Epoch 78/80\n",
            "3176/3176 [==============================] - 228s 72ms/step - loss: 0.4827 - accuracy: 0.8746\n",
            "Epoch 79/80\n",
            "3176/3176 [==============================] - 228s 72ms/step - loss: 0.4817 - accuracy: 0.8746\n",
            "Epoch 80/80\n",
            "3176/3176 [==============================] - 230s 72ms/step - loss: 0.4824 - accuracy: 0.8733\n"
          ]
        },
        {
          "output_type": "execute_result",
          "data": {
            "text/plain": [
              "<keras.src.callbacks.History at 0x79a41aa31ae0>"
            ]
          },
          "metadata": {},
          "execution_count": 11
        }
      ],
      "source": [
        "model.compile(loss='categorical_crossentropy', optimizer='adam', metrics=['accuracy'])\n",
        "model.fit(X, y, epochs=80, verbose=1)"
      ]
    },
    {
      "cell_type": "code",
      "execution_count": 12,
      "metadata": {
        "colab": {
          "base_uri": "https://localhost:8080/"
        },
        "id": "SSPH0Uk8SdUC",
        "outputId": "688f3a40-197f-4615-dc62-05a1549334ce"
      },
      "outputs": [
        {
          "output_type": "stream",
          "name": "stdout",
          "text": [
            "1/1 [==============================] - 1s 860ms/step\n",
            "1/1 [==============================] - 0s 30ms/step\n",
            "1/1 [==============================] - 0s 32ms/step\n",
            "I will leave if she marry her but to\n"
          ]
        }
      ],
      "source": [
        "seed_text = \"I will leave if she marry\"\n",
        "next_words = 3\n",
        "\n",
        "for _ in range(next_words):\n",
        "    token_list = tokenizer.texts_to_sequences([seed_text])[0]\n",
        "    token_list = pad_sequences([token_list], maxlen=max_sequence_len-1, padding='pre')\n",
        "    predicted = np.argmax(model.predict(token_list), axis=-1)\n",
        "    output_word = \"\"\n",
        "    for word, index in tokenizer.word_index.items():\n",
        "        if index == predicted:\n",
        "            output_word = word\n",
        "            break\n",
        "    seed_text += \" \" + output_word\n",
        "\n",
        "print(seed_text)"
      ]
    }
  ],
  "metadata": {
    "colab": {
      "provenance": [],
      "include_colab_link": true
    },
    "kernelspec": {
      "display_name": "Python 3",
      "name": "python3"
    },
    "language_info": {
      "name": "python"
    }
  },
  "nbformat": 4,
  "nbformat_minor": 0
}